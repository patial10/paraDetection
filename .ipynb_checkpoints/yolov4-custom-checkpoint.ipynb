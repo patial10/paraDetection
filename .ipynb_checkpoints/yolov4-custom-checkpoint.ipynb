{
 "cells": [
  {
   "cell_type": "code",
   "execution_count": 1,
   "id": "contemporary-liver",
   "metadata": {},
   "outputs": [],
   "source": []
  },
  {
   "cell_type": "code",
   "execution_count": null,
   "id": "outdoor-grave",
   "metadata": {},
   "outputs": [],
   "source": []
  },
  {
   "cell_type": "code",
   "execution_count": 1,
   "id": "reserved-recipe",
   "metadata": {},
   "outputs": [
    {
     "name": "stdout",
     "output_type": "stream",
     "text": [
      "['para']\n"
     ]
    }
   ],
   "source": [
    "import cv2\n",
    "import numpy as np\n",
    "import time\n",
    "classes=[]\n",
    "config_path=\"darknet/cfg/yolov4-custom.cfg\"\n",
    "weight_path=\"darknet/data/backup/yolov4-custom_last.weights\"\n",
    "classes=open(\"darknet/data/obj.names\").read().strip().split(\"\\n\")\n",
    "# classes=['no_mask','mask']\n",
    "net=cv2.dnn.readNet(weight_path,config_path)\n",
    "print(classes)"
   ]
  },
  {
   "cell_type": "code",
   "execution_count": 2,
   "id": "present-costs",
   "metadata": {},
   "outputs": [
    {
     "data": {
      "text/plain": [
       "<dnn_Net 000001FE47ACAC30>"
      ]
     },
     "execution_count": 2,
     "metadata": {},
     "output_type": "execute_result"
    }
   ],
   "source": [
    "net"
   ]
  },
  {
   "cell_type": "code",
   "execution_count": null,
   "id": "incorporated-drain",
   "metadata": {},
   "outputs": [],
   "source": []
  },
  {
   "cell_type": "code",
   "execution_count": 40,
   "id": "convenient-quarterly",
   "metadata": {},
   "outputs": [],
   "source": [
    "img=cv2.imread('darknet/data/obj/1.jpg')\n",
    "height,width,_=img.shape\n",
    "blob=cv2.dnn.blobFromImage(img,1/255,(416,416),(0,0,0),swapRB=True,crop=False)\n",
    "# for b in blob:\n",
    "#     for n,img_blob in enumerate(b):\n",
    "#         cv2.imshow(str(n),img_blob)\n",
    "        \n",
    "\n",
    "\n",
    "# # cv2.imshow('Image',img)\n",
    "# cv2.waitKey(0)\n",
    "# cv2.destroyAllWindows()\n"
   ]
  },
  {
   "cell_type": "code",
   "execution_count": null,
   "id": "floating-forestry",
   "metadata": {},
   "outputs": [],
   "source": []
  },
  {
   "cell_type": "code",
   "execution_count": 41,
   "id": "adjacent-realtor",
   "metadata": {},
   "outputs": [],
   "source": [
    "net.setInput(blob)\n",
    "output_layers_names=net.getUnconnectedOutLayersNames()\n",
    "layer_output=net.forward(output_layers_names)"
   ]
  },
  {
   "cell_type": "code",
   "execution_count": 4,
   "id": "suspended-hospital",
   "metadata": {},
   "outputs": [
    {
     "data": {
      "text/plain": [
       "8112"
      ]
     },
     "execution_count": 4,
     "metadata": {},
     "output_type": "execute_result"
    }
   ],
   "source": [
    "len(layer_output[0])"
   ]
  },
  {
   "cell_type": "code",
   "execution_count": 42,
   "id": "accepting-karma",
   "metadata": {},
   "outputs": [
    {
     "name": "stdout",
     "output_type": "stream",
     "text": [
      "7\n"
     ]
    },
    {
     "data": {
      "text/plain": [
       "[[258, 224, 1308, 315],\n",
       " [180, 324, 1474, 307],\n",
       " [184, 661, 1476, 593],\n",
       " [193, 695, 1451, 547],\n",
       " [146, 1240, 1546, 984],\n",
       " [211, 1275, 1417, 935],\n",
       " [112, 1338, 1597, 811]]"
      ]
     },
     "execution_count": 42,
     "metadata": {},
     "output_type": "execute_result"
    }
   ],
   "source": [
    "boxes=[]\n",
    "confidences=[]\n",
    "class_id=[]\n",
    "for output in layer_output:#length 3\n",
    "    for detection in output:#detection for three different scale\n",
    "        scores=detection[5:]\n",
    "        class_ids=np.argmax(scores)\n",
    "        confidence=scores[class_ids]\n",
    "#         print(confidence)\n",
    "        if confidence>0.2:\n",
    "            center_x=int(detection[0]*width)\n",
    "            center_y=int(detection[1]*height)\n",
    "            w=int(detection[2]*width)\n",
    "            h=int(detection[3]*height)\n",
    "            \n",
    "            x=int(center_x-w/2)\n",
    "            y=int(center_y-h/2)\n",
    "            boxes.append([x,y,w,h])\n",
    "            confidences.append(float(confidence))\n",
    "            class_id.append(class_ids)\n",
    "            \n",
    "\n",
    "            \n",
    "print(len(boxes)) \n",
    "\n",
    "indexes=cv2.dnn.NMSBoxes(boxes, confidences, 0.5, 0.4)\n",
    "# print(indexes.flatten())\n",
    "font = cv2.FONT_HERSHEY_SIMPLEX\n",
    "colors=np.random.uniform(0,255,size=(len(boxes),3))\n",
    "boxes        "
   ]
  },
  {
   "cell_type": "code",
   "execution_count": 43,
   "id": "stuck-silicon",
   "metadata": {},
   "outputs": [],
   "source": [
    "import pytesseract as ps\n",
    "pytesseract.pytesseract.tesseract_cmd=r'C:\\\\Program Files\\\\Tesseract-OCR\\\\tesseract.exe'\n"
   ]
  },
  {
   "cell_type": "code",
   "execution_count": 45,
   "id": "formed-sociology",
   "metadata": {},
   "outputs": [
    {
     "name": "stdout",
     "output_type": "stream",
     "text": [
      " \n",
      "\n",
      "ihe letters are Characteristic Of correspondence with the West in general. ihe\n",
      "nowledge shown of those aspects of Near Eastern politics relevant to the situ-\n",
      "ion in which the settlers found themselves was accurate and detailed within\n",
      "attain limits. Between 1196 and 1202, for example, Master Geoffrey of Donjon\n",
      "idressed three letters to King Sancho VII of Navarre® and a fourth to the prior\n",
      "f England.®© The first to the king was sent in April 1196. Geoffrey reported that\n",
      "-‘Adil, Saladin’s brother and at that time ruler of the Jazirah and upper Iraq, had\n",
      "iided the county of Tripoli and was expected in Palestine any day. He had made\n",
      "is son, al-Muazzam ‘Isa, Lord of Jerusalem (in fact of Karak and Transjordan).\n",
      "eoffrey added that the Nile had flooded disastrously and that Egypt was suffering\n",
      "mine.*” On 23 April 1199 he tried to explain to the king the complicated politics\n",
      "f the Ayyubid family. He described the moves Saladin’s son, al-‘Aziz ‘Uthman of\n",
      "sypt, had made to displace his elder brother al-Afdal ‘Ali of Damascus, together\n",
      "ith al-‘Adil’s attempts to reconcile his nephews and his eventual support for\n",
      "-‘Aziz, who had replaced al-Afdal as the senior Ayyubid prince. Geoffrey, who\n",
      "as concerned for the future, because the truce negotiated in 1192 by Richard of\n",
      "ngland had ended, added that al-‘Adil and al-‘Aziz had visited Jerusalem and that\n",
      "leir intentions were not known.®\n",
      "\n",
      "The next twist in local Muslim politics was described by Geoffrey in the letter\n",
      "\n",
      " \n",
      "\n",
      " \n",
      "\n",
      " \n",
      "\n",
      "211 1275 1417 935\n",
      "- The Hospitallers did not believe all the reports that reached them. In 1282\n",
      "Nicholas Lorgne wrote that letters had been received from the Mongols announc-\n",
      "ing their imminent return to the region — Abaga had been wintering near Baghdad\n",
      "and Mengii Temtir near Mardin — but he added that this information had not been\n",
      "confirmed, which suggests that he had surmised, rightly as it turned out, that the\n",
      "Mongols may have been trying to hide how damaged they had been at Homs.®\n",
      "\n",
      "The language employed by the Hospitaller correspondents was positive. The\n",
      "tone taken with respect to the Mongols may have been adopted in part to please\n",
      "Edward - Mengti Temiir was described by Joseph Chauncy as ‘wise...and bold and\n",
      "a sure knight’ — but there was not a single barbed reference to the Muslims; on the\n",
      "contrary the battle of Homs had been won by the ‘good behaviour of the sultan,\n",
      "and his sense and courage’.®4\n",
      "\n",
      "184 661 1476 593\n",
      " \n",
      "\n",
      " \n",
      "\n",
      "may well have been referring to this battle when he described an engagement 1n\n",
      "which he was injured and captured.®!\n",
      "\n",
      "Joseph Chauncy also reported that taxes had been raised in Egypt, that Qala’un\n",
      "was conscripting an army to march against Margat and Cilicia and that the\n",
      "Mamluk garrison commander of Safad in northern Galilee was forbidding Beduin\n",
      "nomads to pasture their flocks near the castle because the Egyptian army would\n",
      "\n",
      "ae | fr.44 £90\n",
      "\n",
      " \n",
      "\n",
      " \n",
      "\n",
      "180 324 1474 307\n",
      "(2705, 1795, 3)\n"
     ]
    }
   ],
   "source": [
    "for i in indexes.flatten():\n",
    "    x,y,w,h=boxes[i]\n",
    "    label=str(classes[class_id[i]])\n",
    "    confidence=str(round(confidences[i],2))\n",
    "    color=colors[i]\n",
    "    cv2.rectangle(img,(x,y),(x+w,y+h),color,2)\n",
    "    cv2.putText(img,label+\" \"+confidence,(x-15,y),font,1,(200,100,155),2)\n",
    "#     img=cv2.resize(img,(816,1006))\n",
    "    cropped_img=img[y:y+h, x:x+w]\n",
    "    cv2.imshow(\"Image\",cropped_img)\n",
    "    extracted_text=ps.image_to_string(cropped_img)\n",
    "    print(extracted_text)  \n",
    "    print(x,y,w,h)  \n",
    "cv2.imshow(\"Image\",img)\n",
    "print(img.shape)\n",
    "cv2.imwrite('abc.jpg', img)\n",
    "cv2.waitKey(0)   \n",
    "cv2.destroyAllWindows()\n"
   ]
  },
  {
   "cell_type": "code",
   "execution_count": null,
   "id": "turkish-clinton",
   "metadata": {},
   "outputs": [],
   "source": []
  },
  {
   "cell_type": "code",
   "execution_count": null,
   "id": "immune-trout",
   "metadata": {},
   "outputs": [],
   "source": []
  },
  {
   "cell_type": "code",
   "execution_count": null,
   "id": "interim-husband",
   "metadata": {},
   "outputs": [],
   "source": []
  },
  {
   "cell_type": "code",
   "execution_count": null,
   "id": "automated-laundry",
   "metadata": {},
   "outputs": [],
   "source": []
  },
  {
   "cell_type": "code",
   "execution_count": null,
   "id": "confident-password",
   "metadata": {},
   "outputs": [],
   "source": []
  },
  {
   "cell_type": "code",
   "execution_count": null,
   "id": "incredible-testimony",
   "metadata": {},
   "outputs": [],
   "source": []
  },
  {
   "cell_type": "code",
   "execution_count": null,
   "id": "retired-setup",
   "metadata": {},
   "outputs": [],
   "source": []
  },
  {
   "cell_type": "code",
   "execution_count": null,
   "id": "collect-egyptian",
   "metadata": {},
   "outputs": [],
   "source": []
  },
  {
   "cell_type": "code",
   "execution_count": null,
   "id": "early-turning",
   "metadata": {},
   "outputs": [],
   "source": []
  },
  {
   "cell_type": "code",
   "execution_count": null,
   "id": "binding-financing",
   "metadata": {},
   "outputs": [],
   "source": []
  },
  {
   "cell_type": "code",
   "execution_count": null,
   "id": "intensive-grace",
   "metadata": {},
   "outputs": [],
   "source": []
  },
  {
   "cell_type": "code",
   "execution_count": 79,
   "id": "final-barbados",
   "metadata": {},
   "outputs": [
    {
     "data": {
      "text/plain": [
       "138"
      ]
     },
     "execution_count": 79,
     "metadata": {},
     "output_type": "execute_result"
    }
   ],
   "source": []
  },
  {
   "cell_type": "code",
   "execution_count": 6,
   "id": "micro-anime",
   "metadata": {},
   "outputs": [
    {
     "name": "stdout",
     "output_type": "stream",
     "text": [
      "index is:  ()\n"
     ]
    }
   ],
   "source": [
    "cap=cv2.VideoCapture(0)\n",
    "new_frame_time = 0\n",
    "\n",
    "prev_frame_time = 0\n",
    "frame_width = int(cap.get(3))\n",
    "frame_height = int(cap.get(4)) \n",
    "size = (frame_width, frame_height)\n",
    "# result = cv2.VideoWriter('Resultent_videos/output/result.gif', \n",
    "#                          cv2.VideoWriter_fourcc(*'MJPG'),\n",
    "#                          10, size)\n",
    "result = cv2.VideoWriter('output.mp4', -1, 20.0, size)\n",
    "\n",
    "while True:\n",
    "    _,img=cap.read()\n",
    "    height,width,_=img.shape\n",
    "    blob=cv2.dnn.blobFromImage(img,1/255,(608,608),(0,0,0),swapRB=True,crop=False)\n",
    "    net.setInput(blob)\n",
    "    output_layers_names=net.getUnconnectedOutLayersNames()\n",
    "    layer_output=net.forward(output_layers_names)\n",
    "    boxes=[]\n",
    "    confidences=[]\n",
    "    class_id=[]\n",
    "    for output in layer_output:#length 3\n",
    "        for detection in output:#detection for three different scale\n",
    "            scores=detection[5:]\n",
    "            class_ids=np.argmax(scores)\n",
    "            confidence=scores[class_ids]\n",
    "            if confidence>0.2:\n",
    "                center_x=int(detection[0]*width)\n",
    "                center_y=int(detection[1]*height)\n",
    "                w=int(detection[2]*width)\n",
    "                h=int(detection[3]*height)\n",
    "\n",
    "                x=int(center_x-w/2)\n",
    "                y=int(center_y-h/2)\n",
    "\n",
    "                boxes.append([x,y,w,h])\n",
    "                confidences.append(float(confidence))\n",
    "                class_id.append(class_ids)    \n",
    "                \n",
    "                \n",
    "    indexes=cv2.dnn.NMSBoxes(boxes, confidences, 0.4, 0.4)\n",
    "    print(\"index is: \",indexes)\n",
    "    font = cv2.FONT_HERSHEY_COMPLEX_SMALL\n",
    "    if indexes:\n",
    "        for i in indexes.flatten():\n",
    "            x,y,w,h=boxes[i]\n",
    "            label=str(classes[class_id[i]])\n",
    "            confidence=str(round(confidences[i],2))\n",
    "            color_red=(255,0,0)\n",
    "            color_green=(50,205,50)\n",
    "            if  float(confidence)>0.50:\n",
    "                if label=='para\n",
    "                    cv2.rectangle(img,(x,y),(x+w,y+h),color_green,2)\n",
    "                    cv2.putText(img,label+\" \"+confidence,(x,y),font,1,color_green,2)\n",
    "                elif label=='un_mask':\n",
    "                    cv2.rectangle(img,(x,y),(x+w,y+h),color_red,2)\n",
    "                    cv2.putText(img,label+\" \"+confidence,(x,y),font,1,color_red,2)\n",
    "            print(x,y,w,h)\n",
    "#             result.write(img)\n",
    "        \n",
    "    img = cv2.resize(img, (500, 300))\n",
    "    font = cv2.FONT_HERSHEY_SIMPLEX\n",
    "    new_frame_time = time.time()\n",
    "    fps = 1/(new_frame_time-prev_frame_time)\n",
    "    prev_frame_time = new_frame_time\n",
    "    fps = int(fps)\n",
    "    fps = str(fps)\n",
    "    cv2.putText(img, fps, (7, 70), font, 3, (100, 255, 0), 3, cv2.LINE_AA)\n",
    "    cv2.imshow(\"Image\",img)\n",
    "    key=cv2.waitKey(1)   \n",
    "    if key==27:\n",
    "        break\n",
    "    \n",
    "    \n",
    "cap.release()\n",
    "cv2.destroyAllWindows()"
   ]
  },
  {
   "cell_type": "code",
   "execution_count": null,
   "id": "coupled-participation",
   "metadata": {},
   "outputs": [],
   "source": []
  },
  {
   "cell_type": "code",
   "execution_count": null,
   "id": "welcome-object",
   "metadata": {},
   "outputs": [],
   "source": []
  }
 ],
 "metadata": {
  "kernelspec": {
   "display_name": "Python 3",
   "language": "python",
   "name": "python3"
  },
  "language_info": {
   "codemirror_mode": {
    "name": "ipython",
    "version": 3
   },
   "file_extension": ".py",
   "mimetype": "text/x-python",
   "name": "python",
   "nbconvert_exporter": "python",
   "pygments_lexer": "ipython3",
   "version": "3.7.9"
  }
 },
 "nbformat": 4,
 "nbformat_minor": 5
}
